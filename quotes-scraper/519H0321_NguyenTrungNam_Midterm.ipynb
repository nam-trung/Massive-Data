{
  "cells": [
    {
      "cell_type": "code",
      "execution_count": 31,
      "metadata": {
        "id": "3Gd0RHT-SeOO",
        "colab": {
          "base_uri": "https://localhost:8080/"
        },
        "outputId": "9e4f8f93-3fca-440c-aff0-02d16d8c56b9"
      },
      "outputs": [
        {
          "output_type": "stream",
          "name": "stdout",
          "text": [
            "Looking in indexes: https://pypi.org/simple, https://us-python.pkg.dev/colab-wheels/public/simple/\n",
            "Requirement already satisfied: requests in /usr/local/lib/python3.7/dist-packages (2.23.0)\n",
            "Requirement already satisfied: idna<3,>=2.5 in /usr/local/lib/python3.7/dist-packages (from requests) (2.10)\n",
            "Requirement already satisfied: certifi>=2017.4.17 in /usr/local/lib/python3.7/dist-packages (from requests) (2022.6.15)\n",
            "Requirement already satisfied: urllib3!=1.25.0,!=1.25.1,<1.26,>=1.21.1 in /usr/local/lib/python3.7/dist-packages (from requests) (1.24.3)\n",
            "Requirement already satisfied: chardet<4,>=3.0.2 in /usr/local/lib/python3.7/dist-packages (from requests) (3.0.4)\n",
            "Looking in indexes: https://pypi.org/simple, https://us-python.pkg.dev/colab-wheels/public/simple/\n",
            "Requirement already satisfied: beautifulSoup4 in /usr/local/lib/python3.7/dist-packages (4.6.3)\n",
            "Looking in indexes: https://pypi.org/simple, https://us-python.pkg.dev/colab-wheels/public/simple/\n",
            "Requirement already satisfied: scrapingbee in /usr/local/lib/python3.7/dist-packages (1.1.8)\n",
            "Requirement already satisfied: requests in /usr/local/lib/python3.7/dist-packages (from scrapingbee) (2.23.0)\n",
            "Requirement already satisfied: certifi>=2017.4.17 in /usr/local/lib/python3.7/dist-packages (from requests->scrapingbee) (2022.6.15)\n",
            "Requirement already satisfied: chardet<4,>=3.0.2 in /usr/local/lib/python3.7/dist-packages (from requests->scrapingbee) (3.0.4)\n",
            "Requirement already satisfied: idna<3,>=2.5 in /usr/local/lib/python3.7/dist-packages (from requests->scrapingbee) (2.10)\n",
            "Requirement already satisfied: urllib3!=1.25.0,!=1.25.1,<1.26,>=1.21.1 in /usr/local/lib/python3.7/dist-packages (from requests->scrapingbee) (1.24.3)\n",
            "Looking in indexes: https://pypi.org/simple, https://us-python.pkg.dev/colab-wheels/public/simple/\n",
            "Requirement already satisfied: seaborn in /usr/local/lib/python3.7/dist-packages (0.11.2)\n",
            "Requirement already satisfied: numpy>=1.15 in /usr/local/lib/python3.7/dist-packages (from seaborn) (1.21.6)\n",
            "Requirement already satisfied: pandas>=0.23 in /usr/local/lib/python3.7/dist-packages (from seaborn) (1.3.5)\n",
            "Requirement already satisfied: scipy>=1.0 in /usr/local/lib/python3.7/dist-packages (from seaborn) (1.7.3)\n",
            "Requirement already satisfied: matplotlib>=2.2 in /usr/local/lib/python3.7/dist-packages (from seaborn) (3.2.2)\n",
            "Requirement already satisfied: kiwisolver>=1.0.1 in /usr/local/lib/python3.7/dist-packages (from matplotlib>=2.2->seaborn) (1.4.4)\n",
            "Requirement already satisfied: cycler>=0.10 in /usr/local/lib/python3.7/dist-packages (from matplotlib>=2.2->seaborn) (0.11.0)\n",
            "Requirement already satisfied: pyparsing!=2.0.4,!=2.1.2,!=2.1.6,>=2.0.1 in /usr/local/lib/python3.7/dist-packages (from matplotlib>=2.2->seaborn) (3.0.9)\n",
            "Requirement already satisfied: python-dateutil>=2.1 in /usr/local/lib/python3.7/dist-packages (from matplotlib>=2.2->seaborn) (2.8.2)\n",
            "Requirement already satisfied: typing-extensions in /usr/local/lib/python3.7/dist-packages (from kiwisolver>=1.0.1->matplotlib>=2.2->seaborn) (4.1.1)\n",
            "Requirement already satisfied: pytz>=2017.3 in /usr/local/lib/python3.7/dist-packages (from pandas>=0.23->seaborn) (2022.2.1)\n",
            "Requirement already satisfied: six>=1.5 in /usr/local/lib/python3.7/dist-packages (from python-dateutil>=2.1->matplotlib>=2.2->seaborn) (1.15.0)\n",
            "Looking in indexes: https://pypi.org/simple, https://us-python.pkg.dev/colab-wheels/public/simple/\n",
            "Requirement already satisfied: gensim in /usr/local/lib/python3.7/dist-packages (3.6.0)\n",
            "Requirement already satisfied: smart-open>=1.2.1 in /usr/local/lib/python3.7/dist-packages (from gensim) (5.2.1)\n",
            "Requirement already satisfied: scipy>=0.18.1 in /usr/local/lib/python3.7/dist-packages (from gensim) (1.7.3)\n",
            "Requirement already satisfied: six>=1.5.0 in /usr/local/lib/python3.7/dist-packages (from gensim) (1.15.0)\n",
            "Requirement already satisfied: numpy>=1.11.3 in /usr/local/lib/python3.7/dist-packages (from gensim) (1.21.6)\n",
            "Looking in indexes: https://pypi.org/simple, https://us-python.pkg.dev/colab-wheels/public/simple/\n",
            "Requirement already satisfied: nltk in /usr/local/lib/python3.7/dist-packages (3.7)\n",
            "Requirement already satisfied: regex>=2021.8.3 in /usr/local/lib/python3.7/dist-packages (from nltk) (2022.6.2)\n",
            "Requirement already satisfied: tqdm in /usr/local/lib/python3.7/dist-packages (from nltk) (4.64.1)\n",
            "Requirement already satisfied: joblib in /usr/local/lib/python3.7/dist-packages (from nltk) (1.1.0)\n",
            "Requirement already satisfied: click in /usr/local/lib/python3.7/dist-packages (from nltk) (7.1.2)\n",
            "Looking in indexes: https://pypi.org/simple, https://us-python.pkg.dev/colab-wheels/public/simple/\n",
            "Requirement already satisfied: scikit-learn in /usr/local/lib/python3.7/dist-packages (1.0.2)\n",
            "Requirement already satisfied: threadpoolctl>=2.0.0 in /usr/local/lib/python3.7/dist-packages (from scikit-learn) (3.1.0)\n",
            "Requirement already satisfied: joblib>=0.11 in /usr/local/lib/python3.7/dist-packages (from scikit-learn) (1.1.0)\n",
            "Requirement already satisfied: scipy>=1.1.0 in /usr/local/lib/python3.7/dist-packages (from scikit-learn) (1.7.3)\n",
            "Requirement already satisfied: numpy>=1.14.6 in /usr/local/lib/python3.7/dist-packages (from scikit-learn) (1.21.6)\n",
            "Looking in indexes: https://pypi.org/simple, https://us-python.pkg.dev/colab-wheels/public/simple/\n",
            "Requirement already satisfied: sentence-transformers in /usr/local/lib/python3.7/dist-packages (2.2.2)\n",
            "Requirement already satisfied: scikit-learn in /usr/local/lib/python3.7/dist-packages (from sentence-transformers) (1.0.2)\n",
            "Requirement already satisfied: torchvision in /usr/local/lib/python3.7/dist-packages (from sentence-transformers) (0.13.1+cu113)\n",
            "Requirement already satisfied: torch>=1.6.0 in /usr/local/lib/python3.7/dist-packages (from sentence-transformers) (1.12.1+cu113)\n",
            "Requirement already satisfied: sentencepiece in /usr/local/lib/python3.7/dist-packages (from sentence-transformers) (0.1.97)\n",
            "Requirement already satisfied: transformers<5.0.0,>=4.6.0 in /usr/local/lib/python3.7/dist-packages (from sentence-transformers) (4.22.2)\n",
            "Requirement already satisfied: tqdm in /usr/local/lib/python3.7/dist-packages (from sentence-transformers) (4.64.1)\n",
            "Requirement already satisfied: scipy in /usr/local/lib/python3.7/dist-packages (from sentence-transformers) (1.7.3)\n",
            "Requirement already satisfied: huggingface-hub>=0.4.0 in /usr/local/lib/python3.7/dist-packages (from sentence-transformers) (0.10.0)\n",
            "Requirement already satisfied: nltk in /usr/local/lib/python3.7/dist-packages (from sentence-transformers) (3.7)\n",
            "Requirement already satisfied: numpy in /usr/local/lib/python3.7/dist-packages (from sentence-transformers) (1.21.6)\n",
            "Requirement already satisfied: packaging>=20.9 in /usr/local/lib/python3.7/dist-packages (from huggingface-hub>=0.4.0->sentence-transformers) (21.3)\n",
            "Requirement already satisfied: filelock in /usr/local/lib/python3.7/dist-packages (from huggingface-hub>=0.4.0->sentence-transformers) (3.8.0)\n",
            "Requirement already satisfied: pyyaml>=5.1 in /usr/local/lib/python3.7/dist-packages (from huggingface-hub>=0.4.0->sentence-transformers) (6.0)\n",
            "Requirement already satisfied: requests in /usr/local/lib/python3.7/dist-packages (from huggingface-hub>=0.4.0->sentence-transformers) (2.23.0)\n",
            "Requirement already satisfied: typing-extensions>=3.7.4.3 in /usr/local/lib/python3.7/dist-packages (from huggingface-hub>=0.4.0->sentence-transformers) (4.1.1)\n",
            "Requirement already satisfied: importlib-metadata in /usr/local/lib/python3.7/dist-packages (from huggingface-hub>=0.4.0->sentence-transformers) (4.12.0)\n",
            "Requirement already satisfied: pyparsing!=3.0.5,>=2.0.2 in /usr/local/lib/python3.7/dist-packages (from packaging>=20.9->huggingface-hub>=0.4.0->sentence-transformers) (3.0.9)\n",
            "Requirement already satisfied: tokenizers!=0.11.3,<0.13,>=0.11.1 in /usr/local/lib/python3.7/dist-packages (from transformers<5.0.0,>=4.6.0->sentence-transformers) (0.12.1)\n",
            "Requirement already satisfied: regex!=2019.12.17 in /usr/local/lib/python3.7/dist-packages (from transformers<5.0.0,>=4.6.0->sentence-transformers) (2022.6.2)\n",
            "Requirement already satisfied: zipp>=0.5 in /usr/local/lib/python3.7/dist-packages (from importlib-metadata->huggingface-hub>=0.4.0->sentence-transformers) (3.8.1)\n",
            "Requirement already satisfied: click in /usr/local/lib/python3.7/dist-packages (from nltk->sentence-transformers) (7.1.2)\n",
            "Requirement already satisfied: joblib in /usr/local/lib/python3.7/dist-packages (from nltk->sentence-transformers) (1.1.0)\n",
            "Requirement already satisfied: idna<3,>=2.5 in /usr/local/lib/python3.7/dist-packages (from requests->huggingface-hub>=0.4.0->sentence-transformers) (2.10)\n",
            "Requirement already satisfied: certifi>=2017.4.17 in /usr/local/lib/python3.7/dist-packages (from requests->huggingface-hub>=0.4.0->sentence-transformers) (2022.6.15)\n",
            "Requirement already satisfied: urllib3!=1.25.0,!=1.25.1,<1.26,>=1.21.1 in /usr/local/lib/python3.7/dist-packages (from requests->huggingface-hub>=0.4.0->sentence-transformers) (1.24.3)\n",
            "Requirement already satisfied: chardet<4,>=3.0.2 in /usr/local/lib/python3.7/dist-packages (from requests->huggingface-hub>=0.4.0->sentence-transformers) (3.0.4)\n",
            "Requirement already satisfied: threadpoolctl>=2.0.0 in /usr/local/lib/python3.7/dist-packages (from scikit-learn->sentence-transformers) (3.1.0)\n",
            "Requirement already satisfied: pillow!=8.3.*,>=5.3.0 in /usr/local/lib/python3.7/dist-packages (from torchvision->sentence-transformers) (7.1.2)\n"
          ]
        }
      ],
      "source": [
        "!pip install requests\n",
        "!pip install beautifulSoup4\n",
        "!pip install scrapingbee\n",
        "!pip install seaborn\n",
        "!pip install gensim\n",
        "!pip install nltk\n",
        "!pip install scikit-learn\n",
        "!pip install sentence-transformers"
      ]
    },
    {
      "cell_type": "markdown",
      "metadata": {
        "id": "Sgre-l8LoXEw"
      },
      "source": [
        "Import library"
      ]
    },
    {
      "cell_type": "code",
      "execution_count": 32,
      "metadata": {
        "colab": {
          "base_uri": "https://localhost:8080/"
        },
        "id": "_n0bUMtFoWxM",
        "outputId": "070b82b0-676b-4c5f-e847-1c554d03fc3b"
      },
      "outputs": [
        {
          "output_type": "stream",
          "name": "stderr",
          "text": [
            "[nltk_data] Downloading package punkt to /root/nltk_data...\n",
            "[nltk_data]   Package punkt is already up-to-date!\n"
          ]
        }
      ],
      "source": [
        "import pandas as pd\n",
        "from urllib.request import urlopen\n",
        "from bs4 import BeautifulSoup\n",
        "import requests\n",
        "from datetime import date\n",
        "import seaborn as sns\n",
        "import matplotlib.pyplot as plt\n",
        "import re\n",
        "import nltk\n",
        "nltk.download('punkt')\n",
        "from nltk.corpus import stopwords\n",
        "from nltk.tokenize import word_tokenize\n",
        "from wordcloud import WordCloud, STOPWORDS\n",
        "from sklearn.naive_bayes import MultinomialNB\n",
        "from sklearn.feature_extraction.text import CountVectorizer\n",
        "from sklearn.metrics import accuracy_score\n",
        "from sklearn.model_selection import train_test_split\n",
        "from sentence_transformers import SentenceTransformer\n",
        "from sklearn.metrics.pairwise import cosine_similarity\n",
        "import numpy as np"
      ]
    },
    {
      "cell_type": "code",
      "execution_count": 33,
      "metadata": {
        "colab": {
          "base_uri": "https://localhost:8080/"
        },
        "id": "HKOKTzT2XC_n",
        "outputId": "ca40aa33-57b9-42ac-c4d6-762cfe5ae4ce"
      },
      "outputs": [
        {
          "output_type": "stream",
          "name": "stdout",
          "text": [
            "Drive already mounted at /content/drive; to attempt to forcibly remount, call drive.mount(\"/content/drive\", force_remount=True).\n"
          ]
        }
      ],
      "source": [
        "from google.colab import drive\n",
        "drive.mount('/content/drive')"
      ]
    },
    {
      "cell_type": "code",
      "execution_count": 34,
      "metadata": {
        "id": "Q59dz2O_QyuM"
      },
      "outputs": [],
      "source": [
        "# import requests\n",
        "# from bs4 import BeautifulSoup\n",
        "\n",
        "# url = 'http://quotes.toscrape.com/'\n",
        "\n",
        "# r = requests.get(url)\n",
        "# # print(r.status_code)"
      ]
    },
    {
      "cell_type": "markdown",
      "metadata": {
        "id": "C1tO3elfk0ox"
      },
      "source": [
        "Login website"
      ]
    },
    {
      "cell_type": "code",
      "execution_count": 35,
      "metadata": {
        "id": "_GQJE_Mumyt3"
      },
      "outputs": [],
      "source": [
        "# # Start the session\n",
        "# session = requests.Session()\n",
        "\n",
        "# # Create the payload\n",
        "# payload = {'username':'[admin]', \n",
        "#           'password':'[admin]'\n",
        "#          }\n",
        "\n",
        "# # Post the payload to the site to log in\n",
        "# s = session.post(\"http://quotes.toscrape.com/login\", data=payload)\n",
        "\n",
        "# # Navigate to the next page and scrape the data\n",
        "# s = session.get('http://quotes.toscrape.com/')\n",
        "\n",
        "# soup = BeautifulSoup(s.text, 'html.parser')\n",
        "\n",
        "# # print(soup)"
      ]
    },
    {
      "cell_type": "code",
      "execution_count": 36,
      "metadata": {
        "id": "r1LMimhHVPqr"
      },
      "outputs": [],
      "source": [
        "import pandas as pd\n",
        "from urllib.request import urlopen\n",
        "from bs4 import BeautifulSoup\n",
        "\n",
        "url =\"http://quotes.toscrape.com/\"\n",
        "page = urlopen(url)\n",
        "soup = BeautifulSoup(page, 'html.parser')"
      ]
    },
    {
      "cell_type": "markdown",
      "metadata": {
        "id": "qWdRKhJAX2WJ"
      },
      "source": [
        "1.1 - Bạn hãy viết code cào dữ liệu từ trang web trên, lưu kết quả vào 1 file tương\n",
        "ứng (kq.txt) và mô tả ngắn gọn về cấu trúc của trang Web trên? (10 điểm)"
      ]
    },
    {
      "cell_type": "code",
      "execution_count": 37,
      "metadata": {
        "id": "hEF0wV6DV7AV"
      },
      "outputs": [],
      "source": [
        "# print(soup)\n",
        "with open('kq.txt', 'w') as f:\n",
        "    f.write(soup.prettify()) #soup.prettify() turn soup to Unicode string\n",
        "# df.to_csv('')"
      ]
    },
    {
      "cell_type": "markdown",
      "metadata": {
        "id": "UseZg9fPYF9o"
      },
      "source": [
        "1.2 - Với dữ liệu bạn vừa cào về, bạn hãy thực hiện các yêu cầu sau:\n",
        "\n",
        "a. Hãy đọc tất cả các thẻ html (div) với lớp là \"quote\" và lưu nó trong biến\n",
        "'result’, hiển thị giá trị biến 'result’ ra màn hình? (5 điểm)"
      ]
    },
    {
      "cell_type": "code",
      "execution_count": 38,
      "metadata": {
        "id": "pJd0erN4YC-t"
      },
      "outputs": [],
      "source": [
        "result = soup.find_all('div', class_='quote')\n",
        "# or result = soup.find_all('div', {'class':'quote'})\n",
        "\n",
        "# # Hien thi ra man hinh\n",
        "# print(result)"
      ]
    },
    {
      "cell_type": "markdown",
      "metadata": {
        "id": "NXAUJn21ZqQi"
      },
      "source": [
        "b. Hãy tìm trong biến 'result’ vừa rồi các dữ liệu có chứa nhãn \"small\" với\n",
        "class là \"author\" và in kết quả ra màn hình? (5 điểm)"
      ]
    },
    {
      "cell_type": "code",
      "execution_count": 39,
      "metadata": {
        "colab": {
          "base_uri": "https://localhost:8080/"
        },
        "id": "qIOqm4FmZsx-",
        "outputId": "ae3c7d1b-c5ad-4317-b237-4738e52e9435"
      },
      "outputs": [
        {
          "output_type": "stream",
          "name": "stdout",
          "text": [
            "['Albert Einstein', 'J.K. Rowling', 'Albert Einstein', 'Jane Austen', 'Marilyn Monroe', 'Albert Einstein', 'André Gide', 'Thomas A. Edison', 'Eleanor Roosevelt', 'Steve Martin']\n"
          ]
        }
      ],
      "source": [
        "author = []\n",
        "for quote in result: \n",
        "  tmp = quote.find('small', class_='author').text\n",
        "  author.append(tmp)\n",
        "\n",
        "print(author)"
      ]
    },
    {
      "cell_type": "markdown",
      "metadata": {
        "id": "5VRHCysUcc8Q"
      },
      "source": [
        "c. Hãy viết hàm tacgiaLink() để lấy nội dung của mỗi tác giả. Với mỗi tác giả\n",
        "in ra màn hình các nội dung (15 điểm)\n",
        "\n",
        " Tên tác giả\n",
        "\n",
        " Đường link của tác giả\n",
        "\n",
        " Ngày tháng năm sinh\n",
        "\n",
        " Và câu nói nổi tiếng của tác giả"
      ]
    },
    {
      "cell_type": "code",
      "execution_count": null,
      "metadata": {
        "id": "FfL6IucCcco-",
        "colab": {
          "base_uri": "https://localhost:8080/"
        },
        "outputId": "443ec2b5-1252-4a6b-8f44-aa804135a4c5"
      },
      "outputs": [
        {
          "output_type": "stream",
          "name": "stdout",
          "text": [
            "Albert Einstein\n",
            "March 14, 1879\n",
            "“The world as we have created it is a process of our thinking. It cannot be changed without changing our thinking.”\n",
            "https://quotes.toscrape.com/author/Albert-Einstein\n",
            "\n",
            "\n",
            "J.K. Rowling\n",
            "July 31, 1965\n",
            "“It is our choices, Harry, that show what we truly are, far more than our abilities.”\n",
            "https://quotes.toscrape.com/author/J-K-Rowling\n",
            "\n",
            "\n",
            "Albert Einstein\n",
            "March 14, 1879\n",
            "“There are only two ways to live your life. One is as though nothing is a miracle. The other is as though everything is a miracle.”\n",
            "https://quotes.toscrape.com/author/Albert-Einstein\n",
            "\n",
            "\n",
            "Jane Austen\n",
            "December 16, 1775\n",
            "“The person, be it gentleman or lady, who has not pleasure in a good novel, must be intolerably stupid.”\n",
            "https://quotes.toscrape.com/author/Jane-Austen\n",
            "\n",
            "\n",
            "Marilyn Monroe\n",
            "June 01, 1926\n",
            "“Imperfection is beauty, madness is genius and it's better to be absolutely ridiculous than absolutely boring.”\n",
            "https://quotes.toscrape.com/author/Marilyn-Monroe\n",
            "\n",
            "\n",
            "Albert Einstein\n",
            "March 14, 1879\n",
            "“Try not to become a man of success. Rather become a man of value.”\n",
            "https://quotes.toscrape.com/author/Albert-Einstein\n",
            "\n",
            "\n",
            "André Gide\n",
            "November 22, 1869\n",
            "“It is better to be hated for what you are than to be loved for what you are not.”\n",
            "https://quotes.toscrape.com/author/Andre-Gide\n",
            "\n",
            "\n",
            "Thomas A. Edison\n",
            "February 11, 1847\n",
            "“I have not failed. I've just found 10,000 ways that won't work.”\n",
            "https://quotes.toscrape.com/author/Thomas-A-Edison\n",
            "\n",
            "\n",
            "Eleanor Roosevelt\n",
            "October 11, 1884\n",
            "“A woman is like a tea bag; you never know how strong it is until it's in hot water.”\n",
            "https://quotes.toscrape.com/author/Eleanor-Roosevelt\n",
            "\n",
            "\n",
            "Steve Martin\n",
            "August 14, 1945\n",
            "“A day without sunshine is like, you know, night.”\n",
            "https://quotes.toscrape.com/author/Steve-Martin\n",
            "\n",
            "\n",
            "Marilyn Monroe\n",
            "June 01, 1926\n",
            "“This life is what you make it. No matter what, you're going to mess up sometimes, it's a universal truth. But the good part is you get to decide how you're going to mess it up. Girls will be your friends - they'll act like it anyway. But just remember, some come, some go. The ones that stay with you through everything - they're your true best friends. Don't let go of them. Also remember, sisters make the best friends in the world. As for lovers, well, they'll come and go too. And baby, I hate to say it, most of them - actually pretty much all of them are going to break your heart, but you can't give up because if you give up, you'll never find your soulmate. You'll never find that half who makes you whole and that goes for everything. Just because you fail once, doesn't mean you're gonna fail at everything. Keep trying, hold on, and always, always, always believe in yourself, because if you don't, then who will, sweetie? So keep your head high, keep your chin up, and most importantly, keep smiling, because life's a beautiful thing and there's so much to smile about.”\n",
            "https://quotes.toscrape.com/author/Marilyn-Monroe\n",
            "\n",
            "\n",
            "J.K. Rowling\n",
            "July 31, 1965\n",
            "“It takes a great deal of bravery to stand up to our enemies, but just as much to stand up to our friends.”\n",
            "https://quotes.toscrape.com/author/J-K-Rowling\n",
            "\n",
            "\n",
            "Albert Einstein\n",
            "March 14, 1879\n",
            "“If you can't explain it to a six year old, you don't understand it yourself.”\n",
            "https://quotes.toscrape.com/author/Albert-Einstein\n",
            "\n",
            "\n",
            "Bob Marley\n",
            "February 06, 1945\n",
            "“You may not be her first, her last, or her only. She loved before she may love again. But if she loves you now, what else matters? She's not perfect—you aren't either, and the two of you may never be perfect together but if she can make you laugh, cause you to think twice, and admit to being human and making mistakes, hold onto her and give her the most you can. She may not be thinking about you every second of the day, but she will give you a part of her that she knows you can break—her heart. So don't hurt her, don't change her, don't analyze and don't expect more than she can give. Smile when she makes you happy, let her know when she makes you mad, and miss her when she's not there.”\n",
            "https://quotes.toscrape.com/author/Bob-Marley\n",
            "\n",
            "\n",
            "Dr. Seuss\n",
            "March 02, 1904\n",
            "“I like nonsense, it wakes up the brain cells. Fantasy is a necessary ingredient in living.”\n",
            "https://quotes.toscrape.com/author/Dr-Seuss\n",
            "\n",
            "\n",
            "Douglas Adams\n",
            "March 11, 1952\n",
            "“I may not have gone where I intended to go, but I think I have ended up where I needed to be.”\n",
            "https://quotes.toscrape.com/author/Douglas-Adams\n",
            "\n",
            "\n",
            "Elie Wiesel\n",
            "September 30, 1928\n",
            "“The opposite of love is not hate, it's indifference. The opposite of art is not ugliness, it's indifference. The opposite of faith is not heresy, it's indifference. And the opposite of life is not death, it's indifference.”\n",
            "https://quotes.toscrape.com/author/Elie-Wiesel\n",
            "\n",
            "\n",
            "Friedrich Nietzsche\n",
            "October 15, 1844\n",
            "“It is not a lack of love, but a lack of friendship that makes unhappy marriages.”\n",
            "https://quotes.toscrape.com/author/Friedrich-Nietzsche\n",
            "\n",
            "\n",
            "Mark Twain\n",
            "November 30, 1835\n",
            "“Good friends, good books, and a sleepy conscience: this is the ideal life.”\n",
            "https://quotes.toscrape.com/author/Mark-Twain\n",
            "\n",
            "\n",
            "Allen Saunders\n",
            "April 24, 1899\n",
            "“Life is what happens to us while we are making other plans.”\n",
            "https://quotes.toscrape.com/author/Allen-Saunders\n",
            "\n",
            "\n",
            "Pablo Neruda\n",
            "July 12, 1904\n",
            "“I love you without knowing how, or when, or from where. I love you simply, without problems or pride: I love you in this way because I do not know any other way of loving but this, in which there is no I or you, so intimate that your hand upon my chest is my hand, so intimate that when I fall asleep your eyes close.”\n",
            "https://quotes.toscrape.com/author/Pablo-Neruda\n",
            "\n",
            "\n",
            "Ralph Waldo Emerson\n",
            "May 25, 1803\n",
            "“For every minute you are angry you lose sixty seconds of happiness.”\n",
            "https://quotes.toscrape.com/author/Ralph-Waldo-Emerson\n",
            "\n",
            "\n",
            "Mother Teresa\n",
            "August 26, 1910\n",
            "“If you judge people, you have no time to love them.”\n",
            "https://quotes.toscrape.com/author/Mother-Teresa\n",
            "\n",
            "\n",
            "Garrison Keillor\n",
            "August 07, 1942\n",
            "“Anyone who thinks sitting in church can make you a Christian must also think that sitting in a garage can make you a car.”\n",
            "https://quotes.toscrape.com/author/Garrison-Keillor\n",
            "\n",
            "\n",
            "Jim Henson\n",
            "September 24, 1936\n",
            "“Beauty is in the eye of the beholder and it may be necessary from time to time to give a stupid or misinformed beholder a black eye.”\n",
            "https://quotes.toscrape.com/author/Jim-Henson\n",
            "\n",
            "\n",
            "Dr. Seuss\n",
            "March 02, 1904\n",
            "“Today you are You, that is truer than true. There is no one alive who is Youer than You.”\n",
            "https://quotes.toscrape.com/author/Dr-Seuss\n",
            "\n",
            "\n",
            "Albert Einstein\n",
            "March 14, 1879\n",
            "“If you want your children to be intelligent, read them fairy tales. If you want them to be more intelligent, read them more fairy tales.”\n",
            "https://quotes.toscrape.com/author/Albert-Einstein\n",
            "\n",
            "\n",
            "J.K. Rowling\n",
            "July 31, 1965\n",
            "“It is impossible to live without failing at something, unless you live so cautiously that you might as well not have lived at all - in which case, you fail by default.”\n",
            "https://quotes.toscrape.com/author/J-K-Rowling\n",
            "\n",
            "\n",
            "Albert Einstein\n",
            "March 14, 1879\n",
            "“Logic will get you from A to Z; imagination will get you everywhere.”\n",
            "https://quotes.toscrape.com/author/Albert-Einstein\n",
            "\n",
            "\n",
            "Bob Marley\n",
            "February 06, 1945\n",
            "“One good thing about music, when it hits you, you feel no pain.”\n",
            "https://quotes.toscrape.com/author/Bob-Marley\n",
            "\n",
            "\n",
            "Dr. Seuss\n",
            "March 02, 1904\n",
            "“The more that you read, the more things you will know. The more that you learn, the more places you'll go.”\n",
            "https://quotes.toscrape.com/author/Dr-Seuss\n",
            "\n",
            "\n",
            "J.K. Rowling\n",
            "July 31, 1965\n",
            "“Of course it is happening inside your head, Harry, but why on earth should that mean that it is not real?”\n",
            "https://quotes.toscrape.com/author/J-K-Rowling\n",
            "\n",
            "\n",
            "Bob Marley\n",
            "February 06, 1945\n",
            "“The truth is, everyone is going to hurt you. You just got to find the ones worth suffering for.”\n",
            "https://quotes.toscrape.com/author/Bob-Marley\n",
            "\n",
            "\n",
            "Mother Teresa\n",
            "August 26, 1910\n",
            "“Not all of us can do great things. But we can do small things with great love.”\n",
            "https://quotes.toscrape.com/author/Mother-Teresa\n",
            "\n",
            "\n",
            "J.K. Rowling\n",
            "July 31, 1965\n",
            "“To the well-organized mind, death is but the next great adventure.”\n",
            "https://quotes.toscrape.com/author/J-K-Rowling\n",
            "\n",
            "\n",
            "Charles M. Schulz\n",
            "November 26, 1922\n",
            "“All you need is love. But a little chocolate now and then doesn't hurt.”\n",
            "https://quotes.toscrape.com/author/Charles-M-Schulz\n",
            "\n",
            "\n",
            "William Nicholson\n",
            "January 12, 1948\n",
            "“We read to know we're not alone.”\n",
            "https://quotes.toscrape.com/author/William-Nicholson\n",
            "\n",
            "\n",
            "Albert Einstein\n",
            "March 14, 1879\n",
            "“Any fool can know. The point is to understand.”\n",
            "https://quotes.toscrape.com/author/Albert-Einstein\n",
            "\n",
            "\n",
            "Jorge Luis Borges\n",
            "August 24, 1899\n",
            "“I have always imagined that Paradise will be a kind of library.”\n",
            "https://quotes.toscrape.com/author/Jorge-Luis-Borges\n",
            "\n",
            "\n",
            "George Eliot\n",
            "November 22, 1819\n",
            "“It is never too late to be what you might have been.”\n",
            "https://quotes.toscrape.com/author/George-Eliot\n",
            "\n",
            "\n",
            "George R.R. Martin\n",
            "September 20, 1948\n",
            "“A reader lives a thousand lives before he dies, said Jojen. The man who never reads lives only one.”\n",
            "https://quotes.toscrape.com/author/George-R-R-Martin\n",
            "\n",
            "\n",
            "C.S. Lewis\n",
            "November 29, 1898\n",
            "“You can never get a cup of tea large enough or a book long enough to suit me.”\n",
            "https://quotes.toscrape.com/author/C-S-Lewis\n",
            "\n",
            "\n",
            "Marilyn Monroe\n",
            "June 01, 1926\n",
            "“You believe lies so you eventually learn to trust no one but yourself.”\n",
            "https://quotes.toscrape.com/author/Marilyn-Monroe\n",
            "\n",
            "\n",
            "Marilyn Monroe\n",
            "June 01, 1926\n",
            "“If you can make a woman laugh, you can make her do anything.”\n",
            "https://quotes.toscrape.com/author/Marilyn-Monroe\n",
            "\n",
            "\n",
            "Albert Einstein\n",
            "March 14, 1879\n",
            "“Life is like riding a bicycle. To keep your balance, you must keep moving.”\n",
            "https://quotes.toscrape.com/author/Albert-Einstein\n",
            "\n",
            "\n",
            "Marilyn Monroe\n",
            "June 01, 1926\n",
            "“The real lover is the man who can thrill you by kissing your forehead or smiling into your eyes or just staring into space.”\n",
            "https://quotes.toscrape.com/author/Marilyn-Monroe\n",
            "\n",
            "\n",
            "Marilyn Monroe\n",
            "June 01, 1926\n",
            "“A wise girl kisses but doesn't love, listens but doesn't believe, and leaves before she is left.”\n",
            "https://quotes.toscrape.com/author/Marilyn-Monroe\n",
            "\n",
            "\n",
            "Martin Luther King Jr.\n",
            "January 15, 1929\n",
            "“Only in the darkness can you see the stars.”\n",
            "https://quotes.toscrape.com/author/Martin-Luther-King-Jr\n",
            "\n",
            "\n",
            "J.K. Rowling\n",
            "July 31, 1965\n",
            "“It matters not what someone is born, but what they grow to be.”\n",
            "https://quotes.toscrape.com/author/J-K-Rowling\n",
            "\n",
            "\n",
            "James Baldwin\n",
            "August 02, 1924\n",
            "“Love does not begin and end the way we seem to think it does. Love is a battle, love is a war; love is a growing up.”\n",
            "https://quotes.toscrape.com/author/James-Baldwin\n",
            "\n",
            "\n",
            "Jane Austen\n",
            "December 16, 1775\n",
            "“There is nothing I would not do for those who are really my friends. I have no notion of loving people by halves, it is not my nature.”\n",
            "https://quotes.toscrape.com/author/Jane-Austen\n",
            "\n",
            "\n",
            "Eleanor Roosevelt\n",
            "October 11, 1884\n",
            "“Do one thing every day that scares you.”\n",
            "https://quotes.toscrape.com/author/Eleanor-Roosevelt\n",
            "\n",
            "\n",
            "Marilyn Monroe\n",
            "June 01, 1926\n",
            "“I am good, but not an angel. I do sin, but I am not the devil. I am just a small girl in a big world trying to find someone to love.”\n",
            "https://quotes.toscrape.com/author/Marilyn-Monroe\n",
            "\n",
            "\n",
            "Albert Einstein\n",
            "March 14, 1879\n",
            "“If I were not a physicist, I would probably be a musician. I often think in music. I live my daydreams in music. I see my life in terms of music.”\n",
            "https://quotes.toscrape.com/author/Albert-Einstein\n",
            "\n",
            "\n",
            "Haruki Murakami\n",
            "January 12, 1949\n",
            "“If you only read the books that everyone else is reading, you can only think what everyone else is thinking.”\n",
            "https://quotes.toscrape.com/author/Haruki-Murakami\n",
            "\n",
            "\n",
            "Alexandre Dumas fils\n",
            "July 27, 1824\n",
            "“The difference between genius and stupidity is: genius has its limits.”\n",
            "https://quotes.toscrape.com/author/Alexandre-Dumas-fils\n",
            "\n",
            "\n",
            "Stephenie Meyer\n",
            "December 24, 1973\n",
            "“He's like a drug for you, Bella.”\n",
            "https://quotes.toscrape.com/author/Stephenie-Meyer\n",
            "\n",
            "\n",
            "Ernest Hemingway\n",
            "July 21, 1899\n",
            "“There is no friend as loyal as a book.”\n",
            "https://quotes.toscrape.com/author/Ernest-Hemingway\n",
            "\n",
            "\n",
            "Helen Keller\n",
            "June 27, 1880\n",
            "“When one door of happiness closes, another opens; but often we look so long at the closed door that we do not see the one which has been opened for us.”\n",
            "https://quotes.toscrape.com/author/Helen-Keller\n",
            "\n",
            "\n",
            "George Bernard Shaw\n",
            "July 26, 1856\n",
            "“Life isn't about finding yourself. Life is about creating yourself.”\n",
            "https://quotes.toscrape.com/author/George-Bernard-Shaw\n",
            "\n",
            "\n",
            "Charles Bukowski\n",
            "August 16, 1920\n",
            "“That's the problem with drinking, I thought, as I poured myself a drink. If something bad happens you drink in an attempt to forget; if something good happens you drink in order to celebrate; and if nothing happens you drink to make something happen.”\n",
            "https://quotes.toscrape.com/author/Charles-Bukowski\n",
            "\n",
            "\n",
            "Suzanne Collins\n",
            "August 11, 1962\n",
            "“You don’t forget the face of the person who was your last hope.”\n",
            "https://quotes.toscrape.com/author/Suzanne-Collins\n",
            "\n",
            "\n",
            "Suzanne Collins\n",
            "August 11, 1962\n",
            "“Remember, we're madly in love, so it's all right to kiss me anytime you feel like it.”\n",
            "https://quotes.toscrape.com/author/Suzanne-Collins\n",
            "\n",
            "\n",
            "C.S. Lewis\n",
            "November 29, 1898\n",
            "“To love at all is to be vulnerable. Love anything and your heart will be wrung and possibly broken. If you want to make sure of keeping it intact you must give it to no one, not even an animal. Wrap it carefully round with hobbies and little luxuries; avoid all entanglements. Lock it up safe in the casket or coffin of your selfishness. But in that casket, safe, dark, motionless, airless, it will change. It will not be broken; it will become unbreakable, impenetrable, irredeemable. To love is to be vulnerable.”\n",
            "https://quotes.toscrape.com/author/C-S-Lewis\n",
            "\n",
            "\n",
            "J.R.R. Tolkien\n",
            "January 03, 1892\n",
            "“Not all those who wander are lost.”\n",
            "https://quotes.toscrape.com/author/J-R-R-Tolkien\n",
            "\n",
            "\n",
            "J.K. Rowling\n",
            "July 31, 1965\n",
            "“Do not pity the dead, Harry. Pity the living, and, above all those who live without love.”\n",
            "https://quotes.toscrape.com/author/J-K-Rowling\n",
            "\n",
            "\n",
            "Ernest Hemingway\n",
            "July 21, 1899\n",
            "“There is nothing to writing. All you do is sit down at a typewriter and bleed.”\n",
            "https://quotes.toscrape.com/author/Ernest-Hemingway\n",
            "\n",
            "\n",
            "Ralph Waldo Emerson\n",
            "May 25, 1803\n",
            "“Finish each day and be done with it. You have done what you could. Some blunders and absurdities no doubt crept in; forget them as soon as you can. Tomorrow is a new day. You shall begin it serenely and with too high a spirit to be encumbered with your old nonsense.”\n",
            "https://quotes.toscrape.com/author/Ralph-Waldo-Emerson\n",
            "\n",
            "\n",
            "Mark Twain\n",
            "November 30, 1835\n",
            "“I have never let my schooling interfere with my education.”\n",
            "https://quotes.toscrape.com/author/Mark-Twain\n",
            "\n",
            "\n",
            "Dr. Seuss\n",
            "March 02, 1904\n",
            "“I have heard there are troubles of more than one kind. Some come from ahead and some come from behind. But I've bought a big bat. I'm all ready you see. Now my troubles are going to have troubles with me!”\n",
            "https://quotes.toscrape.com/author/Dr-Seuss\n",
            "\n",
            "\n",
            "Alfred Tennyson\n",
            "August 06, 1809\n",
            "“If I had a flower for every time I thought of you...I could walk through my garden forever.”\n",
            "https://quotes.toscrape.com/author/Alfred-Tennyson\n",
            "\n",
            "\n",
            "Charles Bukowski\n",
            "August 16, 1920\n",
            "“Some people never go crazy. What truly horrible lives they must lead.”\n",
            "https://quotes.toscrape.com/author/Charles-Bukowski\n",
            "\n",
            "\n",
            "Terry Pratchett\n",
            "April 28, 1948\n",
            "“The trouble with having an open mind, of course, is that people will insist on coming along and trying to put things in it.”\n",
            "https://quotes.toscrape.com/author/Terry-Pratchett\n",
            "\n",
            "\n",
            "Dr. Seuss\n",
            "March 02, 1904\n",
            "“Think left and think right and think low and think high. Oh, the thinks you can think up if only you try!”\n",
            "https://quotes.toscrape.com/author/Dr-Seuss\n",
            "\n",
            "\n",
            "J.D. Salinger\n",
            "January 01, 1919\n",
            "“What really knocks me out is a book that, when you're all done reading it, you wish the author that wrote it was a terrific friend of yours and you could call him up on the phone whenever you felt like it. That doesn't happen much, though.”\n",
            "https://quotes.toscrape.com/author/J-D-Salinger\n",
            "\n",
            "\n",
            "George Carlin\n",
            "May 12, 1937\n",
            "“The reason I talk to myself is because I’m the only one whose answers I accept.”\n",
            "https://quotes.toscrape.com/author/George-Carlin\n",
            "\n",
            "\n",
            "John Lennon\n",
            "October 09, 1940\n",
            "“You may say I'm a dreamer, but I'm not the only one. I hope someday you'll join us. And the world will live as one.”\n",
            "https://quotes.toscrape.com/author/John-Lennon\n",
            "\n",
            "\n",
            "W.C. Fields\n",
            "January 29, 1880\n",
            "“I am free of all prejudice. I hate everyone equally. ”\n",
            "https://quotes.toscrape.com/author/W-C-Fields\n",
            "\n",
            "\n",
            "Ayn Rand\n",
            "February 02, 1905\n",
            "“The question isn't who is going to let me; it's who is going to stop me.”\n",
            "https://quotes.toscrape.com/author/Ayn-Rand\n",
            "\n",
            "\n",
            "Mark Twain\n",
            "November 30, 1835\n",
            "“′Classic′ - a book which people praise and don't read.”\n",
            "https://quotes.toscrape.com/author/Mark-Twain\n",
            "\n",
            "\n"
          ]
        }
      ],
      "source": [
        "all_quotes = []\n",
        "tags_list = []\n",
        "def tacgiaLink():\n",
        "  for i in range(1, 11):\n",
        "    \n",
        "    url_page = f'https://quotes.toscrape.com/page/{i}/'\n",
        "    page = urlopen(url_page)\n",
        "    soup = BeautifulSoup(page, 'html.parser')\n",
        "\n",
        "    quotes = soup.find_all('div', class_='quote')\n",
        "\n",
        "    def get_author_dob(link_url):\n",
        "      response_auth = requests.get(link_url)\n",
        "      html_auth = response_auth.content\n",
        "      auth_soup = BeautifulSoup(html_auth)\n",
        "      auth_tag = auth_soup.find('span', class_='author-born-date')\n",
        "      return auth_tag.text\n",
        "\n",
        "    for quote in quotes:\n",
        "      #get quote\n",
        "      text_quote = quote.find('span', class_='text').text\n",
        "\n",
        "      #name author\n",
        "      author = quote.find('small', class_='author').text\n",
        "\n",
        "      # get link\n",
        "      link = quote.find('a').get('href')\n",
        "      \n",
        "      link = 'https://quotes.toscrape.com' + link\n",
        "\n",
        "      # get date of birth\n",
        "      dob = get_author_dob(link)\n",
        "\n",
        "\n",
        "      # # get tags list\n",
        "      # tags = quote.find('div', class_='tags').find_all('a')\n",
        "      # for tag in tags:\n",
        "      #     tags_list.append(tag.text)\n",
        "\n",
        "      \n",
        "      #----\n",
        "      single_quote = [author, dob, text_quote, link]\n",
        "      all_quotes.append(single_quote)\n",
        "\n",
        "      print(*single_quote, sep =\"\\n\")\n",
        "      print(\"\\n\")\n",
        "\n",
        "tacgiaLink()"
      ]
    },
    {
      "cell_type": "markdown",
      "metadata": {
        "id": "uEsNXUdaEkHK"
      },
      "source": [
        "d. Hãy lưu kết quả ở câu c vào file Quote.csv tương ứng, với mỗi tác giả là 1\n",
        "dòng dữ liệu. Bạn được yêu cầu thu thập ít nhất 40 câu nói nổi tiếng từ trang\n",
        "web trên một cách tự động theo code của các ý trên? (5 điểm)"
      ]
    },
    {
      "cell_type": "code",
      "execution_count": null,
      "metadata": {
        "id": "EUSdB3m_Ej5W"
      },
      "outputs": [],
      "source": [
        "df = pd.DataFrame(all_quotes, columns=['Author', 'Date of Birth', 'Quote','Link'])\n",
        "df.to_csv('Quotes.csv', index=False)"
      ]
    },
    {
      "cell_type": "code",
      "execution_count": null,
      "metadata": {
        "id": "zJh5B7XayH5o"
      },
      "outputs": [],
      "source": [
        "# df.head(10)\n",
        "\n",
        "\n",
        "n = df[['Date of Birth']]\n",
        "a = n.values.tolist()\n",
        "birthYear = []\n",
        "for i in a:\n",
        "  # print(i)\n",
        "  b = str(i)[-7:-2]\n",
        "  birthYear.append(b)\n",
        "\n",
        "# df.isnull()"
      ]
    },
    {
      "cell_type": "markdown",
      "metadata": {
        "id": "Gs64Mkcyfefz"
      },
      "source": [
        "2.1. Xử lý dữ liệu- Data Imputation (5 điểm):"
      ]
    },
    {
      "cell_type": "markdown",
      "metadata": {
        "id": "mQcYRZ4CfnF0"
      },
      "source": [
        "- Một số giá trị của dữ liệu Trường ngày sinh chưa có, bạn hãy đề xuất cách điền?"
      ]
    },
    {
      "cell_type": "code",
      "execution_count": null,
      "metadata": {
        "id": "bTJC5_OYxz2x"
      },
      "outputs": [],
      "source": [
        "# read file csv\n",
        "df = pd.read_csv('Quotes.csv')"
      ]
    },
    {
      "cell_type": "code",
      "execution_count": null,
      "metadata": {
        "id": "GJwOyDbXfsXj"
      },
      "outputs": [],
      "source": [
        "# columnDOB = df[['Date of Birth']]\n",
        "\n",
        "indexOfMissingValue = df[df['Date of Birth'].isnull()].index.tolist()\n",
        "\n",
        "print(indexOfMissingValue)\n",
        "\n",
        "# function get date of birth on wiki\n",
        "def getBirthday(i):\n",
        "\n",
        "  i = i.replace(\" \",\"_\")\n",
        "  # print(i)\n",
        "  url = \"https://en.wikipedia.org/wiki/\" + i\n",
        "  # print(url)\n",
        "  page = urlopen(url)\n",
        "  soup = BeautifulSoup(page,'html.parser')\n",
        "\n",
        "  result = soup.find_all('td', class_='infobox-data')\n",
        "\n",
        "  bday = []\n",
        "  for i in result:\n",
        "    a = i.find('span')\n",
        "    if (a != None):\n",
        "      bday.append(a.text)\n",
        "  bday = bday[0]\n",
        "  return bday\n",
        "\n",
        "for i in indexOfMissingValue:\n",
        "  nameAuthor = df.iloc[i]['Author']\n",
        "  DateOfBirth = getBirthday(nameAuthor)\n",
        "  df.loc[i,'Date of Birth'] = DateOfBirth\n",
        "\n",
        "# print(columnDOB)"
      ]
    },
    {
      "cell_type": "markdown",
      "metadata": {
        "id": "GljHgDFNft0l"
      },
      "source": [
        "- Bạn hãy thêm vào Trường Tuoi (Tuổi) và đề xuất cách điền tuổi của các tác giả?"
      ]
    },
    {
      "cell_type": "markdown",
      "metadata": {
        "id": "ECEvKrh5R4mU"
      },
      "source": [
        "- lấy sinh năm sinh của tác giả và lưu trong một mảng từ bảng ngày sinh của tác giả\n",
        "- lấy năm mất của tác giả từ trong goodread cào dữ liệu về và lưu dữ liệu trong mảng deadYear\n"
      ]
    },
    {
      "cell_type": "code",
      "source": [
        "# df.head(10)\n",
        "\n",
        "# lấy năm sinh từ cột date of birth\n",
        "\n",
        "n = df[['Date of Birth']]\n",
        "a = n.values.tolist()\n",
        "YearOfBirth = []\n",
        "for i in a:\n",
        "  # print(i)\n",
        "  b = str(i)[-7:-2]\n",
        "  YearOfBirth.append(b)\n",
        "\n",
        "# df.isnull()\n",
        "# add year of birth to datafarm\n",
        "df[\"Year Of Birth\"] = YearOfBirth"
      ],
      "metadata": {
        "id": "2JKVNmbdNBYy"
      },
      "execution_count": null,
      "outputs": []
    },
    {
      "cell_type": "code",
      "execution_count": null,
      "metadata": {
        "id": "piTBtlkIftmD"
      },
      "outputs": [],
      "source": [
        "# get Dead Year from goodread\n",
        "from datetime import date\n",
        "deadYear = []\n",
        "for i in range(1,11):\n",
        "  # Start the session\n",
        "  session = requests.Session()\n",
        "\n",
        "  # Create the payload\n",
        "  payload = {'username':'[admin]', \n",
        "            'password':'[admin]'\n",
        "          }\n",
        "\n",
        "  # Post the payload to the site to log in\n",
        "  s = session.post(\"http://quotes.toscrape.com/login\", data=payload)\n",
        "\n",
        "  # Navigate to the next page and scrape the data\n",
        "  s = session.get(f'https://quotes.toscrape.com/page/{i}/')\n",
        "  soup = BeautifulSoup(s.text, 'html.parser')\n",
        "  quotes = soup.find_all('div', class_='quote')\n",
        "  for i in quotes:\n",
        "    a = i.find_all('a')\n",
        "    link_auth = a[1].get('href')\n",
        "    url = link_auth\n",
        "    page = urlopen(url)\n",
        "    soup = BeautifulSoup(page,'html.parser')\n",
        "\n",
        "    ## if they not die yet, get time now \n",
        "    if soup.find('div', itemprop=\"deathDate\") == None:\n",
        "      dead = date.today().year\n",
        "      deadYear.append(dead)\n",
        "    else:\n",
        "      dead = soup.find('div', itemprop=\"deathDate\").text\n",
        "      dead = dead.replace(' ','')[-4:]\n",
        "      deadYear.append(dead)\n",
        "\n",
        "    # print(author)\n",
        "print(deadYear)"
      ]
    },
    {
      "cell_type": "code",
      "execution_count": null,
      "metadata": {
        "id": "CCVq07WHPbjp"
      },
      "outputs": [],
      "source": [
        "# get age of author\n",
        "age = []\n",
        "for i in range(100):\n",
        "  result = int(deadYear[i]) - int(YearOfBirth[i])\n",
        "  age.append(result)\n",
        "\n",
        "# add column age to datafarm\n",
        "df['Age'] = age\n"
      ]
    },
    {
      "cell_type": "markdown",
      "metadata": {
        "id": "Haj2_kEp-YY3"
      },
      "source": [
        "2.2. Khám phá dữ liệu- Data Exploration (15 điểm):"
      ]
    },
    {
      "cell_type": "markdown",
      "metadata": {
        "id": "9rNh-tvT-ash"
      },
      "source": [
        "- Thống kê về tác giả và câu nói nổi tiếng có trong bộ dữ liệu,"
      ]
    },
    {
      "cell_type": "code",
      "execution_count": null,
      "metadata": {
        "id": "XpVtFmMe-ZNe"
      },
      "outputs": [],
      "source": [
        "#đếm số lần tác giả xuất hiện trong dữ liệu df\n",
        "df_author = df['Author'].value_counts()\n",
        "df_author = df_author.reset_index()\n",
        "# print(df_author)\n",
        "df_author.columns = ['Author', 'Quotes']\n",
        "\n",
        "# who v/s fare barplot\n",
        "sns.set(font_scale = 0.5)\n",
        "ax = sns.barplot(x = 'Author',\n",
        "            y = 'Quotes',\n",
        "            data = df_author)\n",
        "ax.set_xticklabels(ax.get_xticklabels(),rotation = 90)\n",
        "# Show the plot\n",
        "plt.savefig('TotalQuotesOfAuthor.png')\n",
        "df_author = df_author.sort_values(by=['Quotes'], ascending=False)\n",
        "print(df_author)\n",
        "list_author = df_author['Author'].tolist()\n",
        "print(\"The person with the most proverbs is: \", list_author[0])"
      ]
    },
    {
      "cell_type": "markdown",
      "metadata": {
        "id": "0WNVSW7oRdvd"
      },
      "source": [
        "- Thống kê về năm sinh và độ tuổi của các tác giả"
      ]
    },
    {
      "cell_type": "code",
      "execution_count": null,
      "metadata": {
        "id": "-sX5d4qKRcBx"
      },
      "outputs": [],
      "source": [
        "df2 = df.copy()\n",
        "\n",
        "# sorting by first name\n",
        "df2.sort_values(\"Author\", inplace=True)\n",
        "\n",
        "# dropping ALL duplicate values\n",
        "df2.drop_duplicates(subset=\"Author\",\n",
        "                     keep='first', inplace=True)\n",
        "\n",
        "df_YOB = df2['Year Of Birth'].value_counts()\n",
        "\n",
        "df_YOB = df_YOB.reset_index()\n",
        "list_YOB = df_YOB['index'].tolist()\n",
        "# print(df_YOB)\n",
        "# df_YOB\n",
        "df_YOB.columns = ['Year Of Birth', 'count']\n",
        "# who v/s fare barplot\n",
        "sns.set(font_scale = 0.5)\n",
        "ax = sns.barplot(x = 'Year Of Birth',\n",
        "            y = 'count',\n",
        "            data = df_YOB)\n",
        "ax.set_xticklabels(ax.get_xticklabels(),rotation = 90)\n",
        "# Show the plot\n",
        "plt.savefig('YearOfBirth.png')\n",
        "print('The year have most author born is ',list_YOB[0])"
      ]
    },
    {
      "cell_type": "code",
      "execution_count": null,
      "metadata": {
        "id": "tZxWC7luHgT_"
      },
      "outputs": [],
      "source": [
        "df_Age = df2['Age'].value_counts()\n",
        "df_Age = df_Age.reset_index()\n",
        "# print(df_Age)\n",
        "list_age = df_Age['index'].tolist()\n",
        "\n",
        "for i in range(0, len(list_age)):\n",
        "    list_age[i] = int(list_age[i])\n",
        "average_age = sum(list_age)/len(list_age)\n",
        "# Age\n",
        "df_Age.columns = ['Age', 'count']\n",
        "# who v/s fare barplot\n",
        "sns.set(font_scale = 0.5)\n",
        "ax = sns.barplot(x = 'Age',\n",
        "            y = 'count',\n",
        "            data = df_Age)\n",
        "ax.set_xticklabels(ax.get_xticklabels(),rotation = 90)\n",
        "# Show the plot\n",
        "plt.savefig('Age.png')\n",
        "\n",
        "print(\"The age that appears the most is: \", list_age[0])\n",
        "print(\"The average age of the author is: \", int(average_age))\n",
        "\n"
      ]
    },
    {
      "cell_type": "markdown",
      "metadata": {
        "id": "Hb-VePvfHWtJ"
      },
      "source": [
        "- Thống kê về các câu nói nổi tiếng như: câu dài nhất, ngắn nhất, số từ, ..."
      ]
    },
    {
      "cell_type": "code",
      "execution_count": null,
      "metadata": {
        "id": "xbR1S-aiHWeT"
      },
      "outputs": [],
      "source": [
        "df2 = df.copy()\n",
        "# data.insert(5,\"Count_Words\", data[\"Quote\"].apply(lambda x: len(str(x).split(' '))), True)\n",
        "words_count = df2[\"Quote\"].apply(lambda x: len(str(x).split(' ')))\n",
        "\n",
        "print(words_count)\n",
        "\n",
        "df2['Count_Words'] = words_count\n",
        "\n",
        "\n",
        "\n",
        "df2 = df2.sort_values(by=['Count_Words'], ascending=False)\n",
        "# df2.head(10)\n",
        "# df2 = df2.reset_index()\n",
        "df_count_word = df2[['Author','Quote','Count_Words']]\n",
        "\n",
        "\n",
        "lengthest_word = df_count_word.iloc[0]\n",
        "\n",
        "sortest_word = df_count_word.iloc[-1:]\n",
        "\n",
        "# print('Lengthest sentence:')\n",
        "# print(lengthest_word)\n",
        "\n",
        "# print('\\nsortest sentence:')\n",
        "# print(sortest_word)"
      ]
    },
    {
      "cell_type": "markdown",
      "metadata": {
        "id": "0gzkY5VwQpJ_"
      },
      "source": [
        "- Thống kê về các từ được sử dụng trong các câu nói"
      ]
    },
    {
      "cell_type": "code",
      "execution_count": null,
      "metadata": {
        "id": "nFQ3M9XyQobH"
      },
      "outputs": [],
      "source": [
        "from collections import Counter\n",
        "df2 = df.copy()\n",
        "quotes = df2['Quote']\n",
        "\n",
        "all_quotes = ''\n",
        "for quote in quotes:\n",
        "  all_quotes += quote\n",
        "all_quotes = re.sub(r'[^\\w]', ' ', all_quotes)\n",
        "all_quotes = re.sub(r' +', ' ', all_quotes)\n",
        "\n",
        "all_quotes = all_quotes.lower()\n",
        "stop_words = stopwords = set(STOPWORDS)\n",
        "\n",
        "\n",
        "word_tokens = word_tokenize(all_quotes)\n",
        "  \n",
        "list_words = [w for w in word_tokens if not w.lower() in stop_words]\n",
        "  \n",
        "list_words = []\n",
        "  \n",
        "for w in word_tokens:\n",
        "    if w not in stop_words:\n",
        "        list_words.append(w)\n",
        "\n",
        "df3 = pd.DataFrame (list_words, columns = ['word'])\n",
        "\n",
        "rank_words = df3['word'].value_counts()\n",
        "rank_words.head(10)"
      ]
    },
    {
      "cell_type": "code",
      "execution_count": null,
      "metadata": {
        "id": "zw8B5dIsZle9"
      },
      "outputs": [],
      "source": [
        "comment_words = ''\n",
        "stopwords = set(STOPWORDS)\n",
        " \n",
        "# iterate through the csv file\n",
        "for val in df2['Quote']:\n",
        "     \n",
        "    # typecaste each val to string\n",
        "    val = str(val)\n",
        " \n",
        "    # split the value\n",
        "    tokens = val.split()\n",
        "     \n",
        "    # Converts each token into lowercase\n",
        "    for i in range(len(tokens)):\n",
        "        tokens[i] = tokens[i].lower()\n",
        "     \n",
        "    comment_words += \" \".join(tokens)+\" \"\n",
        "\n",
        "# filtered_words = [w for w in allwords if not w in stopwords]\n",
        "\n",
        "wordcloud = WordCloud(width = 800, height = 800,\n",
        "                background_color ='white',\n",
        "                stopwords = stopwords,\n",
        "                min_font_size = 10).generate(comment_words)\n",
        "\n",
        "print(wordcloud.words_)\n",
        "# plot the WordCloud image                 \n",
        "\n",
        "plt.figure(figsize = (8, 8), facecolor = None)\n",
        "plt.imshow(wordcloud)\n",
        "plt.axis(\"off\")\n",
        "plt.tight_layout(pad = 0)\n",
        " \n",
        "plt.show()\n",
        "wordcloud.to_file(\"count_words.png\")"
      ]
    },
    {
      "cell_type": "markdown",
      "metadata": {
        "id": "U9tdVV88iHmD"
      },
      "source": [
        "- Phân tích, trực quan mối quan hệ giữa giữa tác giả và câu nói nổi tiếng"
      ]
    },
    {
      "cell_type": "markdown",
      "metadata": {
        "id": "jm7gRS1wl947"
      },
      "source": [
        "- Phân tích, trực quan mối quan hệ giữa các tác giả với nhau,..."
      ]
    },
    {
      "cell_type": "markdown",
      "metadata": {
        "id": "if3RVWv0mVAz"
      },
      "source": [
        "2.3. Trích xuất đặc trưng- Feature Extraction (5 điểm):\n",
        "Hãy đề xuất cách trích xuất đặc trưng từ bộ dữ liệu đã cho, cung cấp lý do và giải\n",
        "thích cách làm của bạn."
      ]
    },
    {
      "cell_type": "code",
      "execution_count": null,
      "metadata": {
        "id": "Ih4p6TQPmY1m"
      },
      "outputs": [],
      "source": [
        "#2.3\n",
        "df2 = df.copy()\n",
        "\n",
        "# create a dataframe from a word matrix\n",
        "def wm2df(wm, feat_names):\n",
        "  # create an index for each row\n",
        "  doc = ['Doc{:d}'.format(idx) for idx, _ in enumerate(wm)]\n",
        "  df = pd.DataFrame(data=wm.toarray(), index=doc,columns=feat_names)\n",
        "  return(df)\n",
        "\n",
        "\n",
        "# instantiate the vectorizer object\n",
        "cvec = CountVectorizer()\n",
        "\n",
        "# convert the documents into a document-term matrix\n",
        "wm = cvec.fit_transform(df2['Quote'])\n",
        "\n",
        "# retrieve the terms found in the corpora\n",
        "tokens = cvec.get_feature_names()\n",
        "# print(tokens)\n",
        "# create a dataframe from the matrix\n",
        "wm2df = wm2df(wm, tokens)\n",
        "# print(wm2df)\n",
        "\n"
      ]
    },
    {
      "cell_type": "markdown",
      "metadata": {
        "id": "P5UwVBGou3Z0"
      },
      "source": [
        "2.4. Suy luận (25 điểm):\n",
        "Bạn được yêu cầu phân loại câu nói theo tên người nổi tiếng và tính độ tương đồng\n",
        "phong cách nói giữa các tác giả theo 2 yêu cầu sau:"
      ]
    },
    {
      "cell_type": "markdown",
      "metadata": {
        "id": "BrhCTxniu9zL"
      },
      "source": [
        "- Hãy dự đoán tên của người nổi tiếng theo câu nói dựa trên các đặc trưng bạn trích\n",
        "xuất ở trên và đánh giá trên bộ dữ liệu đã cho với tỉ lệ Train/Test và các độ đo phù\n",
        "hợp? (15 điểm)"
      ]
    },
    {
      "cell_type": "code",
      "execution_count": null,
      "metadata": {
        "id": "42JH3_KAu1n_"
      },
      "outputs": [],
      "source": [
        "authors = df2['Author'].tolist()\n",
        "\n",
        "# chia tập dữ liệu train và test tỉ lệ 80/20\n",
        "features_train, features_test, labels_train, labels_test = train_test_split(wm, authors, test_size=0.2, random_state=75)\n",
        "\n",
        "# print(features_test)\n",
        "\n",
        "# Khởi tạo Multinomial NB model\n",
        "nb = MultinomialNB()\n",
        "\n",
        "# Fit tập dữ tập liệu huấn luyện (training set) với Multinomial NB model vừa tạo \n",
        "nb.fit(features_train, labels_train)\n",
        "\n",
        "# kiểm tra độ chính xác\n",
        "score = accuracy_score(labels_test,nb.predict(features_test))\n",
        "print(\"score: \",score)\n",
        "\n",
        "# Chuyển đổi một tập hợp các tài liệu văn bản thành một ma trận số lượng mã tokens.\n",
        "text = [\"It is our choices, Harry, that show what we truly are, far more than our abilities.\"]\n",
        "transformed = cvec.transform(text)\n",
        "\n",
        "# nb.predict(transformed) chứa các giá trị số tương ứng với danh mục.\n",
        "print('The author is:' ,nb.predict(transformed))"
      ]
    },
    {
      "cell_type": "markdown",
      "metadata": {
        "id": "9Ddgq4CNwQKA"
      },
      "source": [
        "- Hãy đề xuất cách tính độ tương đồng phong cách nói giữa các tác giả và tìm ra\n",
        "các tác giả có phong cách nói tương đồng nhau nhất? (10 điểm)"
      ]
    },
    {
      "cell_type": "code",
      "execution_count": null,
      "metadata": {
        "id": "55R61WXnwPIH"
      },
      "outputs": [],
      "source": [
        "dict_df = {}\n",
        "list_Of_author = df2['Author'].unique().tolist()\n",
        "\n",
        "# Khởi tạo dữ liệu kiểu dictionary\n",
        "for author in list_Of_author:\n",
        "    tmp_df = df2.loc[df2['Author'] == author]\n",
        "    key = author\n",
        "    dict_df.setdefault(key,[])\n",
        "    tmp_df.reset_index()\n",
        "    list_quotes = tmp_df['Quote'].tolist()\n",
        "    string = ' '.join(list_quotes)\n",
        "    dict_df[key] = string\n",
        "\n",
        "key_list_author = list(dict_df.keys())\n",
        "val_list_quote = list(dict_df.values())\n",
        "\n",
        "# print(dict_df)\n",
        "\n",
        "# model nhúng câu, văn bản và hình ảnh.\n",
        "model_ST = SentenceTransformer('bert-base-nli-mean-tokens')\n",
        "\n",
        "#Các câu được mã hóa bằng cách gọi model_ST.encode ()\n",
        "quote_endcode = model_ST.encode(val_list_quote)\n",
        "# print(quote_endcode.shape)\n",
        "\n",
        "\n",
        "# print(quote_endcode)\n",
        "for j in range(len(quote_endcode)):\n",
        "    temp_quote_endcode = quote_endcode[np.arange(len(quote_endcode))!=j]\n",
        "\n",
        "    #so sánh 1 câu với các câu nói khác\n",
        "    similarity = cosine_similarity([quote_endcode[j]], temp_quote_endcode)\n",
        "    list_key = key_list_author.copy()\n",
        "    list_key.pop(j)\n",
        "\n",
        "    #sắp xếp độ tương đồng giữa các tác giả với nhau\n",
        "    for n in range(len(similarity[0])-1, 0, -1):\n",
        "        for i in range(n):\n",
        "            if(similarity[0][i] < similarity[0][i+1]):\n",
        "                similarity[0][i], similarity[0][i+1] = similarity[0][i+1], similarity[0][i]\n",
        "                list_key[i], list_key[i+1] = list_key[i+1], list_key[i]\n",
        "    # print(list_key)\n",
        "    print(\"Authors with the highest similarity to \",key_list_author[j], 'respectively are:', list_key)"
      ]
    }
  ],
  "metadata": {
    "colab": {
      "collapsed_sections": [],
      "provenance": []
    },
    "kernelspec": {
      "display_name": "Python 3",
      "name": "python3"
    },
    "language_info": {
      "name": "python"
    }
  },
  "nbformat": 4,
  "nbformat_minor": 0
}